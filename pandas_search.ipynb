{
 "cells": [
  {
   "cell_type": "markdown",
   "metadata": {},
   "source": [
    "## DOCUMENT SIMILARITY SEARCH USING PANDAS ON SINGLE MACHINE"
   ]
  },
  {
   "cell_type": "code",
   "execution_count": 2,
   "metadata": {},
   "outputs": [],
   "source": [
    "import pandas as pd"
   ]
  },
  {
   "cell_type": "code",
   "execution_count": 4,
   "metadata": {},
   "outputs": [
    {
     "data": {
      "text/html": [
       "<div>\n",
       "<style scoped>\n",
       "    .dataframe tbody tr th:only-of-type {\n",
       "        vertical-align: middle;\n",
       "    }\n",
       "\n",
       "    .dataframe tbody tr th {\n",
       "        vertical-align: top;\n",
       "    }\n",
       "\n",
       "    .dataframe thead th {\n",
       "        text-align: right;\n",
       "    }\n",
       "</style>\n",
       "<table border=\"1\" class=\"dataframe\">\n",
       "  <thead>\n",
       "    <tr style=\"text-align: right;\">\n",
       "      <th></th>\n",
       "      <th>_id</th>\n",
       "      <th>title</th>\n",
       "      <th>text</th>\n",
       "      <th>metadata</th>\n",
       "    </tr>\n",
       "  </thead>\n",
       "  <tbody>\n",
       "    <tr>\n",
       "      <th>0</th>\n",
       "      <td>12</td>\n",
       "      <td>Anarchism</td>\n",
       "      <td>Anarchism is a political philosophy that advoc...</td>\n",
       "      <td>{'url': 'https://en.wikipedia.org/wiki?curid=12'}</td>\n",
       "    </tr>\n",
       "    <tr>\n",
       "      <th>1</th>\n",
       "      <td>25</td>\n",
       "      <td>Autism</td>\n",
       "      <td>Autism is a neurodevelopmental disorder charac...</td>\n",
       "      <td>{'url': 'https://en.wikipedia.org/wiki?curid=25'}</td>\n",
       "    </tr>\n",
       "    <tr>\n",
       "      <th>2</th>\n",
       "      <td>39</td>\n",
       "      <td>Albedo</td>\n",
       "      <td>Albedo ( ) is a measure for reflectance or opt...</td>\n",
       "      <td>{'url': 'https://en.wikipedia.org/wiki?curid=39'}</td>\n",
       "    </tr>\n",
       "    <tr>\n",
       "      <th>3</th>\n",
       "      <td>290</td>\n",
       "      <td>A</td>\n",
       "      <td>A (named , plural \"As\", \"A's\", \"a\"s, \"a's\" or ...</td>\n",
       "      <td>{'url': 'https://en.wikipedia.org/wiki?curid=2...</td>\n",
       "    </tr>\n",
       "    <tr>\n",
       "      <th>4</th>\n",
       "      <td>303</td>\n",
       "      <td>Alabama</td>\n",
       "      <td>Alabama ( ) is a state in the southeastern reg...</td>\n",
       "      <td>{'url': 'https://en.wikipedia.org/wiki?curid=3...</td>\n",
       "    </tr>\n",
       "    <tr>\n",
       "      <th>5</th>\n",
       "      <td>305</td>\n",
       "      <td>Achilles</td>\n",
       "      <td>In Greek mythology, Achilles ( , ; ] ) was a G...</td>\n",
       "      <td>{'url': 'https://en.wikipedia.org/wiki?curid=3...</td>\n",
       "    </tr>\n",
       "    <tr>\n",
       "      <th>6</th>\n",
       "      <td>307</td>\n",
       "      <td>Abraham Lincoln</td>\n",
       "      <td>Abraham Lincoln ( ; February 12, 1809 – April ...</td>\n",
       "      <td>{'url': 'https://en.wikipedia.org/wiki?curid=3...</td>\n",
       "    </tr>\n",
       "    <tr>\n",
       "      <th>7</th>\n",
       "      <td>308</td>\n",
       "      <td>Aristotle</td>\n",
       "      <td>Aristotle ( ; Greek: Ἀριστοτέλης , , \"Aristoté...</td>\n",
       "      <td>{'url': 'https://en.wikipedia.org/wiki?curid=3...</td>\n",
       "    </tr>\n",
       "    <tr>\n",
       "      <th>8</th>\n",
       "      <td>309</td>\n",
       "      <td>An American in Paris</td>\n",
       "      <td>An American in Paris is a jazz-influenced orch...</td>\n",
       "      <td>{'url': 'https://en.wikipedia.org/wiki?curid=3...</td>\n",
       "    </tr>\n",
       "    <tr>\n",
       "      <th>9</th>\n",
       "      <td>316</td>\n",
       "      <td>Academy Award for Best Production Design</td>\n",
       "      <td>The Academy Award for Best Production Design r...</td>\n",
       "      <td>{'url': 'https://en.wikipedia.org/wiki?curid=3...</td>\n",
       "    </tr>\n",
       "  </tbody>\n",
       "</table>\n",
       "</div>"
      ],
      "text/plain": [
       "   _id                                     title  \\\n",
       "0   12                                 Anarchism   \n",
       "1   25                                    Autism   \n",
       "2   39                                    Albedo   \n",
       "3  290                                         A   \n",
       "4  303                                   Alabama   \n",
       "5  305                                  Achilles   \n",
       "6  307                           Abraham Lincoln   \n",
       "7  308                                 Aristotle   \n",
       "8  309                      An American in Paris   \n",
       "9  316  Academy Award for Best Production Design   \n",
       "\n",
       "                                                text  \\\n",
       "0  Anarchism is a political philosophy that advoc...   \n",
       "1  Autism is a neurodevelopmental disorder charac...   \n",
       "2  Albedo ( ) is a measure for reflectance or opt...   \n",
       "3  A (named , plural \"As\", \"A's\", \"a\"s, \"a's\" or ...   \n",
       "4  Alabama ( ) is a state in the southeastern reg...   \n",
       "5  In Greek mythology, Achilles ( , ; ] ) was a G...   \n",
       "6  Abraham Lincoln ( ; February 12, 1809 – April ...   \n",
       "7  Aristotle ( ; Greek: Ἀριστοτέλης , , \"Aristoté...   \n",
       "8  An American in Paris is a jazz-influenced orch...   \n",
       "9  The Academy Award for Best Production Design r...   \n",
       "\n",
       "                                            metadata  \n",
       "0  {'url': 'https://en.wikipedia.org/wiki?curid=12'}  \n",
       "1  {'url': 'https://en.wikipedia.org/wiki?curid=25'}  \n",
       "2  {'url': 'https://en.wikipedia.org/wiki?curid=39'}  \n",
       "3  {'url': 'https://en.wikipedia.org/wiki?curid=2...  \n",
       "4  {'url': 'https://en.wikipedia.org/wiki?curid=3...  \n",
       "5  {'url': 'https://en.wikipedia.org/wiki?curid=3...  \n",
       "6  {'url': 'https://en.wikipedia.org/wiki?curid=3...  \n",
       "7  {'url': 'https://en.wikipedia.org/wiki?curid=3...  \n",
       "8  {'url': 'https://en.wikipedia.org/wiki?curid=3...  \n",
       "9  {'url': 'https://en.wikipedia.org/wiki?curid=3...  "
      ]
     },
     "execution_count": 4,
     "metadata": {},
     "output_type": "execute_result"
    }
   ],
   "source": [
    "# Loading dataset\n",
    "file_path = \"./dataset/corpus.jsonl\"\n",
    "\n",
    "chunk_size = 100000\n",
    "\n",
    "chunks = []\n",
    "\n",
    "for chunk in pd.read_json(file_path, lines=True, chunksize=chunk_size):\n",
    "    chunks.append(chunk)\n",
    "\n",
    "df = pd.concat(chunks)\n",
    "df.head(10)"
   ]
  },
  {
   "cell_type": "code",
   "execution_count": 5,
   "metadata": {},
   "outputs": [
    {
     "name": "stdout",
     "output_type": "stream",
     "text": [
      "Dataset size:  5233329\n"
     ]
    }
   ],
   "source": [
    "print(\"Dataset size: \", len(df))"
   ]
  }
 ],
 "metadata": {
  "kernelspec": {
   "display_name": "venv",
   "language": "python",
   "name": "python3"
  },
  "language_info": {
   "codemirror_mode": {
    "name": "ipython",
    "version": 3
   },
   "file_extension": ".py",
   "mimetype": "text/x-python",
   "name": "python",
   "nbconvert_exporter": "python",
   "pygments_lexer": "ipython3",
   "version": "3.8.10"
  }
 },
 "nbformat": 4,
 "nbformat_minor": 2
}
