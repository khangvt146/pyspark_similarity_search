{
 "cells": [
  {
   "cell_type": "markdown",
   "metadata": {},
   "source": [
    "## DOCUMENT SIMILARITY SEARCH USING PANDAS ON SINGLE MACHINE"
   ]
  },
  {
   "cell_type": "code",
   "execution_count": 2,
   "metadata": {},
   "outputs": [],
   "source": [
    "import pandas as pd"
   ]
  },
  {
   "cell_type": "code",
   "execution_count": 48,
   "metadata": {},
   "outputs": [
    {
     "data": {
      "text/html": [
       "<div>\n",
       "<style scoped>\n",
       "    .dataframe tbody tr th:only-of-type {\n",
       "        vertical-align: middle;\n",
       "    }\n",
       "\n",
       "    .dataframe tbody tr th {\n",
       "        vertical-align: top;\n",
       "    }\n",
       "\n",
       "    .dataframe thead th {\n",
       "        text-align: right;\n",
       "    }\n",
       "</style>\n",
       "<table border=\"1\" class=\"dataframe\">\n",
       "  <thead>\n",
       "    <tr style=\"text-align: right;\">\n",
       "      <th></th>\n",
       "      <th>_id</th>\n",
       "      <th>title</th>\n",
       "      <th>text</th>\n",
       "      <th>metadata</th>\n",
       "    </tr>\n",
       "  </thead>\n",
       "  <tbody>\n",
       "    <tr>\n",
       "      <th>144549</th>\n",
       "      <td>340516</td>\n",
       "      <td>Airbus A318</td>\n",
       "      <td>The Airbus A318 is the smallest member of the ...</td>\n",
       "      <td>{'url': 'https://en.wikipedia.org/wiki?curid=3...</td>\n",
       "    </tr>\n",
       "    <tr>\n",
       "      <th>20389</th>\n",
       "      <td>42636</td>\n",
       "      <td>Hubert Humphrey</td>\n",
       "      <td>Hubert Horatio Humphrey Jr. (May 27, 1911Janua...</td>\n",
       "      <td>{'url': 'https://en.wikipedia.org/wiki?curid=4...</td>\n",
       "    </tr>\n",
       "    <tr>\n",
       "      <th>188936</th>\n",
       "      <td>489792</td>\n",
       "      <td>Griqua people</td>\n",
       "      <td>The Griqua ( ; Afrikaans \"Griekwa\", sometimes ...</td>\n",
       "      <td>{'url': 'https://en.wikipedia.org/wiki?curid=4...</td>\n",
       "    </tr>\n",
       "    <tr>\n",
       "      <th>233441</th>\n",
       "      <td>659051</td>\n",
       "      <td>Shawn Wayans</td>\n",
       "      <td>Shawn Mathis Wayans (born January 19, 1971) is...</td>\n",
       "      <td>{'url': 'https://en.wikipedia.org/wiki?curid=6...</td>\n",
       "    </tr>\n",
       "    <tr>\n",
       "      <th>490609</th>\n",
       "      <td>1929054</td>\n",
       "      <td>Protestant Reformers</td>\n",
       "      <td>Protestant Reformers were those theologians, c...</td>\n",
       "      <td>{'url': 'https://en.wikipedia.org/wiki?curid=1...</td>\n",
       "    </tr>\n",
       "    <tr>\n",
       "      <th>...</th>\n",
       "      <td>...</td>\n",
       "      <td>...</td>\n",
       "      <td>...</td>\n",
       "      <td>...</td>\n",
       "    </tr>\n",
       "    <tr>\n",
       "      <th>210221</th>\n",
       "      <td>572178</td>\n",
       "      <td>Point Reyes</td>\n",
       "      <td>Point Reyes is a prominent cape and popular No...</td>\n",
       "      <td>{'url': 'https://en.wikipedia.org/wiki?curid=5...</td>\n",
       "    </tr>\n",
       "    <tr>\n",
       "      <th>186066</th>\n",
       "      <td>479936</td>\n",
       "      <td>Rime dictionary</td>\n",
       "      <td>A rime dictionary, rhyme dictionary, or rime b...</td>\n",
       "      <td>{'url': 'https://en.wikipedia.org/wiki?curid=4...</td>\n",
       "    </tr>\n",
       "    <tr>\n",
       "      <th>443092</th>\n",
       "      <td>1681226</td>\n",
       "      <td>Michael Rapaport</td>\n",
       "      <td>Michael David Rapaport (born March 20, 1970) i...</td>\n",
       "      <td>{'url': 'https://en.wikipedia.org/wiki?curid=1...</td>\n",
       "    </tr>\n",
       "    <tr>\n",
       "      <th>9161</th>\n",
       "      <td>19653</td>\n",
       "      <td>May 31</td>\n",
       "      <td>May 31 is the day of the year in the Gregorian...</td>\n",
       "      <td>{'url': 'https://en.wikipedia.org/wiki?curid=1...</td>\n",
       "    </tr>\n",
       "    <tr>\n",
       "      <th>338924</th>\n",
       "      <td>1146200</td>\n",
       "      <td>WUSM-FM</td>\n",
       "      <td>WUSM-FM (88.5 FM) is a radio station broadcast...</td>\n",
       "      <td>{'url': 'https://en.wikipedia.org/wiki?curid=1...</td>\n",
       "    </tr>\n",
       "  </tbody>\n",
       "</table>\n",
       "<p>25000 rows × 4 columns</p>\n",
       "</div>"
      ],
      "text/plain": [
       "            _id                 title  \\\n",
       "144549   340516           Airbus A318   \n",
       "20389     42636       Hubert Humphrey   \n",
       "188936   489792         Griqua people   \n",
       "233441   659051          Shawn Wayans   \n",
       "490609  1929054  Protestant Reformers   \n",
       "...         ...                   ...   \n",
       "210221   572178           Point Reyes   \n",
       "186066   479936       Rime dictionary   \n",
       "443092  1681226      Michael Rapaport   \n",
       "9161      19653                May 31   \n",
       "338924  1146200               WUSM-FM   \n",
       "\n",
       "                                                     text  \\\n",
       "144549  The Airbus A318 is the smallest member of the ...   \n",
       "20389   Hubert Horatio Humphrey Jr. (May 27, 1911Janua...   \n",
       "188936  The Griqua ( ; Afrikaans \"Griekwa\", sometimes ...   \n",
       "233441  Shawn Mathis Wayans (born January 19, 1971) is...   \n",
       "490609  Protestant Reformers were those theologians, c...   \n",
       "...                                                   ...   \n",
       "210221  Point Reyes is a prominent cape and popular No...   \n",
       "186066  A rime dictionary, rhyme dictionary, or rime b...   \n",
       "443092  Michael David Rapaport (born March 20, 1970) i...   \n",
       "9161    May 31 is the day of the year in the Gregorian...   \n",
       "338924  WUSM-FM (88.5 FM) is a radio station broadcast...   \n",
       "\n",
       "                                                 metadata  \n",
       "144549  {'url': 'https://en.wikipedia.org/wiki?curid=3...  \n",
       "20389   {'url': 'https://en.wikipedia.org/wiki?curid=4...  \n",
       "188936  {'url': 'https://en.wikipedia.org/wiki?curid=4...  \n",
       "233441  {'url': 'https://en.wikipedia.org/wiki?curid=6...  \n",
       "490609  {'url': 'https://en.wikipedia.org/wiki?curid=1...  \n",
       "...                                                   ...  \n",
       "210221  {'url': 'https://en.wikipedia.org/wiki?curid=5...  \n",
       "186066  {'url': 'https://en.wikipedia.org/wiki?curid=4...  \n",
       "443092  {'url': 'https://en.wikipedia.org/wiki?curid=1...  \n",
       "9161    {'url': 'https://en.wikipedia.org/wiki?curid=1...  \n",
       "338924  {'url': 'https://en.wikipedia.org/wiki?curid=1...  \n",
       "\n",
       "[25000 rows x 4 columns]"
      ]
     },
     "execution_count": 48,
     "metadata": {},
     "output_type": "execute_result"
    }
   ],
   "source": [
    "# Loading dataset\n",
    "file_path = \"./dataset/corpus.jsonl\"\n",
    "\n",
    "chunk_size = 500000\n",
    "\n",
    "dataset = pd.read_json(file_path, lines=True, chunksize=chunk_size)\n",
    "dataset = next(dataset)\n",
    "\n",
    "SAMPLE_SIZE = 25000\n",
    "\n",
    "# Sample 25,000 samples to run comparision\n",
    "df = dataset.sample(SAMPLE_SIZE)\n",
    "df\n"
   ]
  },
  {
   "cell_type": "markdown",
   "metadata": {},
   "source": [
    "#### Compare between LSH and Bruteforce"
   ]
  },
  {
   "cell_type": "code",
   "execution_count": 49,
   "metadata": {},
   "outputs": [],
   "source": [
    "from utils.utilities import Shingling, MinHashing, LSH\n",
    "\n",
    "SHINGLING_SIZE = 5\n",
    "SIGNATURE_SIZE = 100\n",
    "BAND_NUM = 10\n",
    "THRESHHOLD = 0.5\n",
    "\n",
    "shingling = Shingling(SHINGLING_SIZE)\n",
    "min_hash = MinHashing(SIGNATURE_SIZE)\n",
    "lsh = LSH(THRESHHOLD)"
   ]
  },
  {
   "cell_type": "code",
   "execution_count": 50,
   "metadata": {},
   "outputs": [
    {
     "name": "stdout",
     "output_type": "stream",
     "text": [
      "Time execution: 74.08294320106506 (s)\n",
      "SIMILARITY DOCUMENT PAIRS:  144\n"
     ]
    }
   ],
   "source": [
    "import time \n",
    "\n",
    "start_time = time.time()\n",
    "shingling_list = []\n",
    "\n",
    "for index, row in df.iterrows():\n",
    "    doc = row[\"title\"] + \" \" + row[\"text\"]\n",
    "    shinglings = shingling.get_hashed_shingles(shingling.get_shingles(doc, words=True))\n",
    "    shingling_list.append(shinglings)\n",
    "\n",
    "signature_matrix = min_hash.compute_signature_matrix(shingling_list)\n",
    "lsh_similar_itemset = lsh.get_similar_items(signature_matrix, BAND_NUM, SIGNATURE_SIZE)\n",
    "end_time = time.time()\n",
    "print(f\"Time execution: {end_time - start_time} (s)\")\n",
    "print(\"SIMILARITY DOCUMENT PAIRS: \", len(lsh_similar_itemset))\n"
   ]
  },
  {
   "cell_type": "code",
   "execution_count": 54,
   "metadata": {},
   "outputs": [
    {
     "name": "stderr",
     "output_type": "stream",
     "text": [
      "  0%|          | 0/24999 [00:00<?, ?it/s]"
     ]
    },
    {
     "name": "stderr",
     "output_type": "stream",
     "text": [
      "100%|██████████| 24999/24999 [25:22<00:00, 16.42it/s] "
     ]
    },
    {
     "name": "stdout",
     "output_type": "stream",
     "text": [
      "Time execution: 1522.1483767032623 (s)\n",
      "SIMILARITY DOCUMENT PAIRS:  144\n"
     ]
    },
    {
     "name": "stderr",
     "output_type": "stream",
     "text": [
      "\n"
     ]
    }
   ],
   "source": [
    "from tqdm import tqdm\n",
    "\n",
    "def jaccard_similarity(set1: set, set2: set):\n",
    "    intersection = len(set1.intersection(set2))\n",
    "    union = len(set1.union(set2))\n",
    "    if union > 0 :\n",
    "        return intersection/union\n",
    "    else:\n",
    "        return 0\n",
    "                \n",
    "start_time = time.time()\n",
    "brute_force_similar_items = set()\n",
    "\n",
    "for i in tqdm(range(0, SAMPLE_SIZE - 1)):\n",
    "    for j in range(i + 1, SAMPLE_SIZE):\n",
    "        similarity = jaccard_similarity(set(shingling_list[i]), set(shingling_list[j]))\n",
    "        if similarity >= THRESHHOLD:\n",
    "            brute_force_similar_items.add((i, j))\n",
    "\n",
    "end_time = time.time()\n",
    "print(f\"Time execution: {end_time - start_time} (s)\")\n",
    "print(\"SIMILARITY DOCUMENT PAIRS: \", len(lsh_similar_itemset))"
   ]
  }
 ],
 "metadata": {
  "kernelspec": {
   "display_name": "venv",
   "language": "python",
   "name": "python3"
  },
  "language_info": {
   "codemirror_mode": {
    "name": "ipython",
    "version": 3
   },
   "file_extension": ".py",
   "mimetype": "text/x-python",
   "name": "python",
   "nbconvert_exporter": "python",
   "pygments_lexer": "ipython3",
   "version": "3.11.5"
  }
 },
 "nbformat": 4,
 "nbformat_minor": 2
}
