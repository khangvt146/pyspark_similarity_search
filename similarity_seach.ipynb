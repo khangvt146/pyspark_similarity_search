{
 "cells": [
  {
   "cell_type": "markdown",
   "metadata": {},
   "source": [
    "## DOCUMENT SIMILARITY SEARCH WITH PYSPARK"
   ]
  },
  {
   "cell_type": "code",
   "execution_count": 11,
   "metadata": {},
   "outputs": [
    {
     "name": "stderr",
     "output_type": "stream",
     "text": [
      "                                                                                \r"
     ]
    },
    {
     "name": "stdout",
     "output_type": "stream",
     "text": [
      "+---+--------------------+--------------------+--------------------+\n",
      "|_id|            metadata|                text|               title|\n",
      "+---+--------------------+--------------------+--------------------+\n",
      "| 12|{https://en.wikip...|Anarchism is a po...|           Anarchism|\n",
      "| 25|{https://en.wikip...|Autism is a neuro...|              Autism|\n",
      "| 39|{https://en.wikip...|Albedo ( ) is a m...|              Albedo|\n",
      "|290|{https://en.wikip...|A (named , plural...|                   A|\n",
      "|303|{https://en.wikip...|Alabama ( ) is a ...|             Alabama|\n",
      "|305|{https://en.wikip...|In Greek mytholog...|            Achilles|\n",
      "|307|{https://en.wikip...|Abraham Lincoln (...|     Abraham Lincoln|\n",
      "|308|{https://en.wikip...|Aristotle ( ; Gre...|           Aristotle|\n",
      "|309|{https://en.wikip...|An American in Pa...|An American in Paris|\n",
      "|316|{https://en.wikip...|The Academy Award...|Academy Award for...|\n",
      "|324|{https://en.wikip...|The Academy Award...|      Academy Awards|\n",
      "|330|{https://en.wikip...|Actresses (Catala...|             Actrius|\n",
      "|332|{https://en.wikip...|Animalia is an il...|     Animalia (book)|\n",
      "|334|{https://en.wikip...|International Ato...|International Ato...|\n",
      "|336|{https://en.wikip...|Altruism or selfl...|            Altruism|\n",
      "|339|{https://en.wikip...|Ayn Rand ( ; born...|            Ayn Rand|\n",
      "|340|{https://en.wikip...|Alain Connes (] ;...|        Alain Connes|\n",
      "|344|{https://en.wikip...|Allan Dwan (3 Apr...|          Allan Dwan|\n",
      "|358|{https://en.wikip...|Algeria (Arabic: ...|             Algeria|\n",
      "|359|{https://en.wikip...|This is a list of...|List of Atlas Shr...|\n",
      "+---+--------------------+--------------------+--------------------+\n",
      "only showing top 20 rows\n",
      "\n"
     ]
    }
   ],
   "source": [
    "from pyspark.sql import SparkSession\n",
    "\n",
    "# Create SparkSession\n",
    "spark = SparkSession.builder \\\n",
    "        .appName(\"SimilaritySearch\") \\\n",
    "        .master(\"spark://172.29.15.15:7077\") \\\n",
    "        .config(\"spark.executor.instances\", \"2\") \\\n",
    "        .config(\"spark.executor.cores\", \"10\") \\\n",
    "        .config(\"spark.executor.memory\", \"16g\") \\\n",
    "        .config(\"spark.driver.memory\", \"8g\") \\\n",
    "        .config(\"spark.driver.maxResultSize\", \"12g\") \\\n",
    "        .getOrCreate()\n",
    "\n",
    "# Read datafile\n",
    "file_path = \"hdfs://172.29.15.15:9000/khang/dataset/corpus.jsonl\"\n",
    "df = spark.read.json(file_path)\n",
    "\n",
    "# Just get first 1,000,000 rows to process because limited in hardware\n",
    "df = df.limit(500000)\n",
    "\n",
    "#segments.persist() # to avoid lazy behaviour and store dataset in memory\n",
    "df.show() # data preview"
   ]
  },
  {
   "cell_type": "code",
   "execution_count": 12,
   "metadata": {},
   "outputs": [
    {
     "name": "stderr",
     "output_type": "stream",
     "text": [
      "[Stage 2:=====================================>                   (13 + 7) / 20]\r"
     ]
    },
    {
     "name": "stdout",
     "output_type": "stream",
     "text": [
      "Number of documents:  500000\n",
      "<class 'pyspark.sql.dataframe.DataFrame'>\n"
     ]
    },
    {
     "name": "stderr",
     "output_type": "stream",
     "text": [
      "                                                                                \r"
     ]
    }
   ],
   "source": [
    "print(\"Number of documents: \", df.count())\n",
    "print(type(df))"
   ]
  },
  {
   "cell_type": "code",
   "execution_count": 13,
   "metadata": {},
   "outputs": [
    {
     "name": "stderr",
     "output_type": "stream",
     "text": [
      "[Stage 5:==========================================>              (15 + 5) / 20]\r"
     ]
    },
    {
     "name": "stdout",
     "output_type": "stream",
     "text": [
      "'id' column in dataset is unique\n"
     ]
    },
    {
     "name": "stderr",
     "output_type": "stream",
     "text": [
      "                                                                                \r"
     ]
    }
   ],
   "source": [
    "from pyspark.sql.functions import col\n",
    "\n",
    "# Check if the column \"id\" is unique or not\n",
    "is_unique = df.groupBy(\"_id\").count().filter(col(\"count\") > 1).isEmpty()\n",
    "if is_unique:\n",
    "    print(\"'id' column in dataset is unique\")\n",
    "else:\n",
    "    print(\"'id' column in dataset isn't unique\")"
   ]
  },
  {
   "cell_type": "code",
   "execution_count": 14,
   "metadata": {},
   "outputs": [
    {
     "name": "stdout",
     "output_type": "stream",
     "text": [
      "Driver node hostname: master\n",
      "Driver node port: 34615\n",
      "Number of worker nodes: 2\n"
     ]
    }
   ],
   "source": [
    "# Get Spark's configuration information\n",
    "sc = spark.sparkContext\n",
    "\n",
    "# Get the driver node's hostname and port\n",
    "driver_host = sc.getConf().get(\"spark.driver.host\")\n",
    "driver_port = sc.getConf().get(\"spark.driver.port\")\n",
    "num_workers = sc.getConf().get(\"spark.executor.instances\")\n",
    "\n",
    "print(\"Driver node hostname:\", driver_host)\n",
    "print(\"Driver node port:\", driver_port)\n",
    "print(\"Number of worker nodes:\", num_workers)"
   ]
  },
  {
   "cell_type": "markdown",
   "metadata": {},
   "source": [
    "### Add Python file to SparkContext"
   ]
  },
  {
   "cell_type": "code",
   "execution_count": 15,
   "metadata": {},
   "outputs": [],
   "source": [
    "sc.addPyFile(\"./utils/utilities.py\")"
   ]
  },
  {
   "cell_type": "markdown",
   "metadata": {},
   "source": [
    "## SHINGLING\n",
    "\n",
    "`Shingling` algorithms will dividing a document or text into a sequence of contiguous, overlapping, or non-overlapping `shingles`, which are essentially small units of text. Shingling is typically used to create a compact representation of the text, which can then be used to compare and measure the similarity between documents.\n",
    "\n",
    "The Map function for shingling will distribute documents among worker nodes in the network producing `(doc id,Shingles set, hash_id)` pairs. The reduce function don't need in this case."
   ]
  },
  {
   "cell_type": "code",
   "execution_count": 16,
   "metadata": {},
   "outputs": [
    {
     "name": "stderr",
     "output_type": "stream",
     "text": [
      "[Stage 8:===================================================>     (18 + 2) / 20]\r"
     ]
    },
    {
     "name": "stdout",
     "output_type": "stream",
     "text": [
      "+------+----------------------------------------------------------------------------------------------------+-------+\n",
      "|doc_id|                                                                                        shingles_set|hash_id|\n",
      "+------+----------------------------------------------------------------------------------------------------+-------+\n",
      "|    12|[that advocates selfgoverned societies based, state to be undesirable unnecessary, defined them m...|      0|\n",
      "|    25|[with autism reach their developmental, though some children with autism, and nonverbal communica...|      0|\n",
      "|    39|[radiation to one corresponding to, is a measure for reflectance, one corresponding to a white, b...|      0|\n",
      "|   290|[in two forms the doublestorey, of a triangle crossed in, and the first vowel of, the first vowel...|      0|\n",
      "|   303|[us states with a total, among the most of any, east florida and the gulf, of inland waterways al...|      0|\n",
      "|   305|[warrior of homers iliad his, greek mythology achilles was a, in greek mythology achilles was, ne...|      0|\n",
      "|   307|[lincoln led the united states, constitutional and political crisis in, american politician and l...|      0|\n",
      "|   308|[child whereafter proxenus of atarneus, macedon tutored alexander the great, of atarneus became h...|      0|\n",
      "|   309|[orchestral piece by the american, inspired by the time gershwin, in paris it evokes the, in the ...|      0|\n",
      "|   316|[1947 the award is shared, from the art directors branch, arts and sciences ampas being, change r...|      0|\n",
      "|   324|[known by its nickname oscar, and technical merit in the, winners are awarded a copy, a golden st...|      0|\n",
      "|   330|[actors with all roles played, film produced and directed by, actrius is a 1997 catalan, no male ...|      0|\n",
      "|   332|[is an illustrated childrens book, 1996 and a 25th anniversary, animalia is an illustrated childr...|      0|\n",
      "|   334|[10 seconds at the start, time utc which is used, coordinate time standard based on, a highprecis...|      0|\n",
      "|   336|[altruisme for an antonym of, turn was derived from latin, is the principle or practice, the ital...|      0|\n",
      "|   339|[she moved to the united, had a play produced on, and screenwriter she is known, philosophical sy...|      0|\n",
      "|   340|[des arts et métiers 2000, a french mathematician currently professor, france ihés ohio state uni...|      0|\n",
      "|   344|[picture director producer and screenwriter, pioneering canadianborn american motion picture, 188...|      0|\n",
      "|   358|[city is algiers located in, peoples democratic republic of algeria, in the world and the, is bor...|      0|\n",
      "|   359|[shrugged characters this is a, list of characters in ayn, of characters in ayn rands, atlas shru...|      0|\n",
      "+------+----------------------------------------------------------------------------------------------------+-------+\n",
      "only showing top 20 rows\n",
      "\n"
     ]
    },
    {
     "name": "stderr",
     "output_type": "stream",
     "text": [
      "                                                                                \r"
     ]
    }
   ],
   "source": [
    "from utilities import Shingling\n",
    "from pyspark.sql.types import StructType, StructField, StringType, IntegerType\n",
    "from pyspark.sql.functions import col\n",
    "\n",
    "\n",
    "def shingling_map(row):\n",
    "    out = []\n",
    "    sh_instance = Shingling(5)\n",
    "    shingles = sh_instance.get_shingles(row[\"title\"] + \" \" + row[\"text\"], words=True)\n",
    "    signature_size = 100\n",
    "    for i in range(0, signature_size):  # signature size\n",
    "        out.append((row[\"_id\"], shingles, i))\n",
    "\n",
    "    # return an iterator to use flatMap => produce more than one key-value pair as output (namely one per hash function)\n",
    "    return iter(out)\n",
    "\n",
    "\n",
    "# Define the schema as a list of StructField objects\n",
    "schema = StructType(\n",
    "    [\n",
    "        StructField(\"doc_id\", StringType(), nullable=False),\n",
    "        StructField(\"shingles_set\", StringType(), nullable=True),\n",
    "        StructField(\"hash_id\", IntegerType(), nullable=True),\n",
    "    ]\n",
    ")\n",
    "\n",
    "# Use rdd.collect() to get all data from workers to driver.\n",
    "result = df.rdd.flatMap(shingling_map).toDF(schema)\n",
    "result.filter(col(\"hash_id\") == 0).show(truncate=100)"
   ]
  },
  {
   "cell_type": "markdown",
   "metadata": {},
   "source": [
    "## MIN-HASHING\n",
    "\n",
    "`Min Hashing` is a technique used to estimate the similarity between sets, in this case is the sets of shingles extracted from documents. It works by creating a signature matrix that represents the presence or absence of shingles in each documents.\n",
    "\n",
    " Design a map-reduce task to produce the signature matrix:\n",
    " - Map Task: take input `(doc_id, shingle_set, h_i)` with `h_i` is an hash function from hash family defined above and produce the minhash value of the set for that given hash function. Output: `(doc_id, min_hash)`\n",
    " - Reduce Task: group result from Map Task. Ouput: `(doc_id, minhash_signature)`\n"
   ]
  },
  {
   "cell_type": "code",
   "execution_count": 18,
   "metadata": {},
   "outputs": [],
   "source": [
    "from utilities import HashFamily\n",
    "import math\n",
    "\n",
    "\n",
    "def minhash_map(row):\n",
    "    doc_id = row[0]\n",
    "    shingles = row[1]\n",
    "    hash_f = HashFamily(row[2])\n",
    "    min_h = math.inf\n",
    "    for el in shingles:\n",
    "        hash_value = hash_f.get_hash_value(el)\n",
    "        if hash_value < min_h:\n",
    "            min_h = hash_value\n",
    "\n",
    "    return (doc_id, min_h)\n",
    "\n",
    "\n",
    "# Map task\n",
    "minhash_map_task = df.rdd.flatMap(shingling_map).map(minhash_map)\n",
    "\n",
    "# Reduce task. Format result: (doc_id, minhash_signature)\n",
    "sig_matrix = minhash_map_task.groupByKey().map(lambda x : (x[0], list(x[1])))"
   ]
  },
  {
   "cell_type": "code",
   "execution_count": 21,
   "metadata": {},
   "outputs": [
    {
     "name": "stderr",
     "output_type": "stream",
     "text": [
      "[Stage 25:>                                                         (0 + 1) / 1]\r"
     ]
    },
    {
     "name": "stdout",
     "output_type": "stream",
     "text": [
      "+------+----------------------------------------------------------------------------------------------------+\n",
      "|doc_id|                                                                                           signature|\n",
      "+------+----------------------------------------------------------------------------------------------------+\n",
      "|631557|[233623080, 43798276, 11827396, 159118239, 5304397, 253723450, 75083950, 101483230, 93788666, 856...|\n",
      "|634862|[6747511, 221390547, 397101929, 72733085, 2083994, 206760304, 108648721, 399346433, 116755236, 40...|\n",
      "|636084|[97585608, 35616189, 421551816, 324054930, 77207479, 116010955, 145904762, 75209766, 89189051, 23...|\n",
      "|636690|[94081269, 15658246, 224910, 28013445, 713335, 81796388, 26700060, 1503094, 13067487, 19307218, 2...|\n",
      "|638112|[59891946, 38154720, 175970798, 161035742, 86921245, 78781234, 26373912, 153825846, 61255802, 214...|\n",
      "|640841|[3163370, 16558871, 3738692, 5323037, 40500658, 13237297, 65642648, 37495668, 14470277, 33076425,...|\n",
      "|640846|[22816330, 48544105, 36917658, 8393391, 57953635, 39066427, 15441686, 1977410, 1768719, 44246999,...|\n",
      "|642793|[140994434, 51137226, 76941296, 33706707, 3558392, 6806245, 8743562, 41661458, 24357359, 44718569...|\n",
      "|648563|[41583574, 36700783, 104320154, 22703951, 5951108, 63676881, 16459664, 3553825, 27166046, 1232097...|\n",
      "|652948|[142839549, 10992946, 100259742, 172056275, 166836080, 58007310, 67542442, 76557063, 179937359, 1...|\n",
      "|654926|[57726620, 54077996, 16053812, 9105180, 30217615, 35670431, 42869133, 33482017, 123849630, 152505...|\n",
      "|662308|[42741159, 79922010, 197556586, 4910320, 8320968, 91069331, 100609840, 80517190, 108658321, 50390...|\n",
      "|663691|[39932948, 167706999, 273810837, 30085440, 59283399, 82424784, 109729039, 200006001, 122267839, 5...|\n",
      "|666087|[29148140, 92443902, 26625218, 21307087, 25260345, 2489511, 15008527, 221321981, 7853901, 1908449...|\n",
      "|667355|[124728420, 54465259, 28693264, 5808562, 26298080, 1818749, 15683180, 904911, 9407204, 5197711, 1...|\n",
      "|672750|[276773471, 154293952, 260756949, 109399857, 247773457, 415748433, 963785980, 170961954, 11443876...|\n",
      "|674461|[22867627, 247061742, 221901582, 71895897, 50341578, 166788961, 61458954, 118568663, 30204468, 93...|\n",
      "|675863|[21788100, 106574513, 1400388, 11663573, 168800, 2165146, 6054298, 87258099, 27572798, 111116830,...|\n",
      "|680416|[2449516, 92841714, 144351491, 57163699, 78077218, 78988727, 5922309, 66119126, 34626257, 1281255...|\n",
      "|689785|[165156735, 14938699, 20079690, 26156304, 100269714, 944932, 38328956, 12340155, 100267483, 78279...|\n",
      "+------+----------------------------------------------------------------------------------------------------+\n",
      "only showing top 20 rows\n",
      "\n"
     ]
    },
    {
     "name": "stderr",
     "output_type": "stream",
     "text": [
      "                                                                                \r"
     ]
    }
   ],
   "source": [
    "# Print signature matrix\n",
    "sig_matrix_df = sig_matrix.toDF([\"doc_id\", \"signature\"])\n",
    "sig_matrix_df.show(truncate=100)"
   ]
  },
  {
   "cell_type": "code",
   "execution_count": 23,
   "metadata": {},
   "outputs": [
    {
     "name": "stderr",
     "output_type": "stream",
     "text": [
      "                                                                                \r"
     ]
    },
    {
     "name": "stdout",
     "output_type": "stream",
     "text": [
      "Signature matrix rows length:  500000\n"
     ]
    },
    {
     "name": "stderr",
     "output_type": "stream",
     "text": [
      "[Stage 45:>                                                         (0 + 1) / 1]\r"
     ]
    },
    {
     "name": "stdout",
     "output_type": "stream",
     "text": [
      "Number of minhash signature:  100\n"
     ]
    },
    {
     "name": "stderr",
     "output_type": "stream",
     "text": [
      "                                                                                \r"
     ]
    }
   ],
   "source": [
    "# Print signature matrix dimensions\n",
    "print(\"Signature matrix rows length: \", sig_matrix_df.count())\n",
    "print(\"Number of minhash signature: \", len(sig_matrix_df.take(1)[0][1]))"
   ]
  },
  {
   "cell_type": "markdown",
   "metadata": {},
   "source": [
    "## LOCALITY SENSITIVE HASHING\n",
    "\n",
    "LSH is a technique used in data mining and similarity search to efficiently approximate the similarity between high-dimensional data points. The key idea behind LSH is to hash data points in such a way that similar points are mapped to the same or nearby \"buckets\" with high probability. This reduces the number of candidates that need to be considered when searching for similar data points, which can significantly speed up the process.\n",
    "\n",
    "Steps:\n",
    "- Hashing: LSH employs multiple hash functions that map data points to a set of buckets. Similar data points are more likely to be mapped to the same bucket, but this probability decreases as the dissimilarity between data points increases.\n",
    "- Threshold evaluate: Once data points are hashed, a similarity threshold is defined. Only data points in the same or nearby buckets are considered candidates for being similar to a given query point.\n",
    "- Candidate Search: During a search, the system only needs to consider data points in the candidate buckets to identify the nearest neighbors or similar items. This reduces the search space and computational cost."
   ]
  },
  {
   "cell_type": "code",
   "execution_count": 75,
   "metadata": {},
   "outputs": [],
   "source": [
    "from utilities import HashFamily\n",
    "\n",
    "\"\"\"\n",
    "Implementing points:\n",
    "    - Spliting signature into equal subset, assign this subset to a band.\n",
    "    - Hash the subset to get its bucket.\n",
    "    - Map Task output will have format: key = (band_id, bucket), value = doc_id\n",
    "    - Reduce Task output format:  key = (band_id, bucket), value = list of candidate \n",
    "\"\"\"\n",
    "\n",
    "\n",
    "def map_buckets(row):\n",
    "    # Band number = 10 and row number = 10 because we have 100 signatures\n",
    "    band_number = 10\n",
    "    row_number = 10\n",
    "    doc_id = row[0]\n",
    "    doc_sign = row[1]\n",
    "    hash_funct = HashFamily(1)\n",
    "    out = []\n",
    "\n",
    "    for i in range(0, band_number):\n",
    "        band_id = i\n",
    "        idx = i * row_number\n",
    "        set_col = \" \".join(str(x) for x in doc_sign[idx : idx + row_number])\n",
    "        bucket = hash_funct.get_hash_value(set_col)\n",
    "        out.append(((band_id, bucket), doc_id))\n",
    "\n",
    "    return iter(out)\n",
    "\n",
    "\n",
    "# Map task\n",
    "candidate_map = sig_matrix.flatMap(map_buckets)\n",
    "\n",
    "# Reduce task\n",
    "candidate_reduce = candidate_map.groupByKey().map(lambda x: (x[0], list(x[1])))"
   ]
  },
  {
   "cell_type": "code",
   "execution_count": 25,
   "metadata": {},
   "outputs": [
    {
     "name": "stderr",
     "output_type": "stream",
     "text": [
      "[Stage 53:>                                                         (0 + 1) / 1]\r"
     ]
    },
    {
     "name": "stdout",
     "output_type": "stream",
     "text": [
      "+---------------+---------+\n",
      "|            key|    value|\n",
      "+---------------+---------+\n",
      "| {1, 401173258}| [758214]|\n",
      "|{5, 1753997025}| [761608]|\n",
      "| {7, 113005060}| [866239]|\n",
      "|{7, 1733999151}|[1008278]|\n",
      "|{2, 3954184401}|[1019429]|\n",
      "|{7, 1036611283}|[1028002]|\n",
      "|{5, 2912925647}|[1033236]|\n",
      "|{5, 3109292376}|[1132889]|\n",
      "|{2, 1199289725}|[1151087]|\n",
      "|{7, 3337611444}|[1197705]|\n",
      "|{2, 2856988549}|[1440344]|\n",
      "| {9, 900253593}|[3417616]|\n",
      "|{4, 1245531571}|[3518315]|\n",
      "|{3, 3742912261}|[3977011]|\n",
      "|{5, 2612624286}|[4548150]|\n",
      "|{8, 3936323950}| [690682]|\n",
      "|{1, 3318745282}|[1072153]|\n",
      "|{5, 1987524866}|[1346496]|\n",
      "|{6, 3798984574}|[1582667]|\n",
      "|{6, 3041842877}|[3430501]|\n",
      "+---------------+---------+\n",
      "only showing top 20 rows\n",
      "\n"
     ]
    },
    {
     "name": "stderr",
     "output_type": "stream",
     "text": [
      "                                                                                \r"
     ]
    }
   ],
   "source": [
    "candidate_df = candidate_reduce.toDF([\"key\", \"value\"])\n",
    "candidate_df.show()"
   ]
  },
  {
   "cell_type": "code",
   "execution_count": 66,
   "metadata": {},
   "outputs": [],
   "source": [
    "from itertools import combinations\n",
    "\n",
    "sig_matrix_df = sig_matrix.collect()\n",
    "sig_matrix_dict = {item[0]: item[1] for item in sig_matrix_df}\n",
    "\n",
    "# Calculate similarity\n",
    "def calculate_similarity(row):\n",
    "    out = []\n",
    "    list_doc_id = row[1]\n",
    "    for pair in combinations(list_doc_id, 2):\n",
    "        doc_id_1 = pair[0]\n",
    "        doc_id_2 = pair[1]\n",
    "        sig_1 = set(sig_matrix_dict[doc_id_1])\n",
    "        sig_2 = set(sig_matrix_dict[doc_id_2])\n",
    "        js = len(sig_1.intersection(sig_2)) / len(sig_1.union(sig_2))\n",
    "        out.append((pair, js))\n",
    "    return iter(out)\n",
    "\n",
    "\n",
    "similar_pairs = candidate_reduce.flatMap(calculate_similarity)"
   ]
  },
  {
   "cell_type": "code",
   "execution_count": 67,
   "metadata": {},
   "outputs": [
    {
     "name": "stderr",
     "output_type": "stream",
     "text": [
      "[Stage 163:>                                                        (0 + 1) / 1]\r"
     ]
    },
    {
     "name": "stdout",
     "output_type": "stream",
     "text": [
      "+------------------+-------------------+\n",
      "|                _1|                 _2|\n",
      "+------------------+-------------------+\n",
      "|{3751877, 3470923}| 0.7543859649122807|\n",
      "|{1220598, 1218266}| 0.4084507042253521|\n",
      "|{3995765, 1681273}|                0.0|\n",
      "|{1042239, 1039893}| 0.5267175572519084|\n",
      "|{1042239, 1030535}| 0.5267175572519084|\n",
      "|{1042239, 1039849}| 0.4492753623188406|\n",
      "|{1042239, 1030590}| 0.5037593984962406|\n",
      "|{1042239, 1039852}| 0.5384615384615384|\n",
      "|{1039893, 1030535}| 0.5384615384615384|\n",
      "|{1039893, 1039849}|0.47058823529411764|\n",
      "|{1039893, 1030590}| 0.5151515151515151|\n",
      "|{1039893, 1039852}| 0.5267175572519084|\n",
      "|{1030535, 1039849}|0.48148148148148145|\n",
      "|{1030535, 1030590}| 0.5037593984962406|\n",
      "|{1030535, 1039852}| 0.5503875968992248|\n",
      "|{1039849, 1030590}|0.45985401459854014|\n",
      "|{1039849, 1039852}|0.48148148148148145|\n",
      "|{1030590, 1039852}|0.48148148148148145|\n",
      "|{7381505, 7377476}| 0.7543859649122807|\n",
      "|{7381505, 7381344}| 0.6666666666666666|\n",
      "+------------------+-------------------+\n",
      "only showing top 20 rows\n",
      "\n"
     ]
    },
    {
     "name": "stderr",
     "output_type": "stream",
     "text": [
      "                                                                                \r"
     ]
    }
   ],
   "source": [
    "similar_pairs_df = similar_pairs.toDF()\n",
    "similar_pairs_df.show()"
   ]
  },
  {
   "cell_type": "code",
   "execution_count": 78,
   "metadata": {},
   "outputs": [
    {
     "name": "stderr",
     "output_type": "stream",
     "text": [
      "[Stage 184:>                                                        (0 + 1) / 1]\r"
     ]
    },
    {
     "name": "stdout",
     "output_type": "stream",
     "text": [
      "SIMILARS DOCUMENT NUMBER:  12929\n"
     ]
    },
    {
     "name": "stderr",
     "output_type": "stream",
     "text": [
      "                                                                                \r"
     ]
    }
   ],
   "source": [
    "THRESHHOLD = 0.8\n",
    "\n",
    "filtered_pairs = similar_pairs.filter(lambda x: x[1] >= 0.8)\n",
    "print(\"SIMILARS DOCUMENT NUMBERS: \", filtered_pairs.count())"
   ]
  },
  {
   "cell_type": "code",
   "execution_count": 84,
   "metadata": {},
   "outputs": [
    {
     "name": "stderr",
     "output_type": "stream",
     "text": [
      "                                                                                \r"
     ]
    }
   ],
   "source": [
    "# Print Example\n",
    "ex_1 = filtered_pairs.take(1)\n",
    "ex_2 = filtered_pairs.take(2)\n",
    "\n",
    "ex_1_doc_1_id = ex_1[0][0][0]\n",
    "ex_1_doc_2_id = ex_1[0][0][1]\n",
    "\n",
    "ex_2_doc_1_id = ex_2[0][0][0]\n",
    "ex_2_doc_2_id = ex_2[0][0][1]"
   ]
  },
  {
   "cell_type": "code",
   "execution_count": 115,
   "metadata": {},
   "outputs": [
    {
     "name": "stdout",
     "output_type": "stream",
     "text": [
      "SIMILAR DOCUMENT EXAMPLE 1: \n",
      "+-------+---------------------------------------------+------------------------------------------------------------------------------------------------------------------------------------------------------+---------------+\n",
      "|    _id|                                     metadata|                                                                                                                                                  text|          title|\n",
      "+-------+---------------------------------------------+------------------------------------------------------------------------------------------------------------------------------------------------------+---------------+\n",
      "|3556508|{https://en.wikipedia.org/wiki?curid=3556508}|Chulliyar River is one of the tributaries of the river Gayathripuzha. \"Gayathripuzha\" is one of the main tributaries of the Bharathapuzha River, th...|Chulliyar River|\n",
      "+-------+---------------------------------------------+------------------------------------------------------------------------------------------------------------------------------------------------------+---------------+\n",
      "\n"
     ]
    },
    {
     "name": "stderr",
     "output_type": "stream",
     "text": [
      "                                                                                \r"
     ]
    },
    {
     "name": "stdout",
     "output_type": "stream",
     "text": [
      "+-------+---------------------------------------------+------------------------------------------------------------------------------------------------------------------------------------------------------+--------------+\n",
      "|    _id|                                     metadata|                                                                                                                                                  text|         title|\n",
      "+-------+---------------------------------------------+------------------------------------------------------------------------------------------------------------------------------------------------------+--------------+\n",
      "|3556499|{https://en.wikipedia.org/wiki?curid=3556499}|Meenkarappuzha River is one of the tributaries of the river Gayathripuzha. \"Gayathripuzha\" is one of the main tributaries of the Bharathapuzha Rive...|Meenkarappuzha|\n",
      "+-------+---------------------------------------------+------------------------------------------------------------------------------------------------------------------------------------------------------+--------------+\n",
      "\n"
     ]
    },
    {
     "name": "stderr",
     "output_type": "stream",
     "text": [
      "                                                                                \r"
     ]
    }
   ],
   "source": [
    "print(\"SIMILAR DOCUMENT EXAMPLE 1: \")\n",
    "df.filter((col(\"_id\") == ex_1_doc_1_id)).show(truncate=150)\n",
    "df.filter(col(\"_id\") == ex_1_doc_2_id).show(truncate=150)"
   ]
  },
  {
   "cell_type": "code",
   "execution_count": 114,
   "metadata": {},
   "outputs": [
    {
     "name": "stdout",
     "output_type": "stream",
     "text": [
      "SIMILAR DOCUMENT EXAMPLE 2: \n"
     ]
    },
    {
     "name": "stderr",
     "output_type": "stream",
     "text": [
      "                                                                                \r"
     ]
    },
    {
     "name": "stdout",
     "output_type": "stream",
     "text": [
      "+-------+---------------------------------------------+------------------------------------------------------------------------------------------------------------------------------------------------------+---------------------------------------------+\n",
      "|    _id|                                     metadata|                                                                                                                                                  text|                                        title|\n",
      "+-------+---------------------------------------------+------------------------------------------------------------------------------------------------------------------------------------------------------+---------------------------------------------+\n",
      "|3468627|{https://en.wikipedia.org/wiki?curid=3468627}|The modern pentathlon at the 1968 Summer Olympics was represented by two events (both for men): \"Individual competition\" and \"Team competition\". As...|Modern pentathlon at the 1968 Summer Olympics|\n",
      "+-------+---------------------------------------------+------------------------------------------------------------------------------------------------------------------------------------------------------+---------------------------------------------+\n",
      "\n",
      "+-------+---------------------------------------------+------------------------------------------------------------------------------------------------------------------------------------------------------+---------------------------------------------+\n",
      "|    _id|                                     metadata|                                                                                                                                                  text|                                        title|\n",
      "+-------+---------------------------------------------+------------------------------------------------------------------------------------------------------------------------------------------------------+---------------------------------------------+\n",
      "|3488413|{https://en.wikipedia.org/wiki?curid=3488413}|The modern pentathlon at the 1984 Summer Olympics was represented by two events (both for men): \"Individual competition\" and \"Team competition\". As...|Modern pentathlon at the 1984 Summer Olympics|\n",
      "+-------+---------------------------------------------+------------------------------------------------------------------------------------------------------------------------------------------------------+---------------------------------------------+\n",
      "\n"
     ]
    }
   ],
   "source": [
    "print(\"SIMILAR DOCUMENT EXAMPLE 2: \")\n",
    "df.filter((col(\"_id\") == ex_2_doc_1_id)).show(truncate=150)\n",
    "df.filter(col(\"_id\") == ex_2_doc_2_id).show(truncate=150)"
   ]
  },
  {
   "cell_type": "markdown",
   "metadata": {},
   "source": [
    "## FINAL CODE\n",
    "\n",
    "Merge all steps above to one LSH pipeline to similarity search with PySpark"
   ]
  },
  {
   "cell_type": "code",
   "execution_count": 1,
   "metadata": {},
   "outputs": [
    {
     "name": "stderr",
     "output_type": "stream",
     "text": [
      "your 131072x1 screen size is bogus. expect trouble\n",
      "23/11/03 10:51:26 WARN Utils: Your hostname, khangPC resolves to a loopback address: 127.0.0.1; using 172.29.15.15 instead (on interface eth0)\n",
      "23/11/03 10:51:26 WARN Utils: Set SPARK_LOCAL_IP if you need to bind to another address\n",
      "Setting default log level to \"WARN\".\n",
      "To adjust logging level use sc.setLogLevel(newLevel). For SparkR, use setLogLevel(newLevel).\n",
      "23/11/03 10:51:26 WARN NativeCodeLoader: Unable to load native-hadoop library for your platform... using builtin-java classes where applicable\n"
     ]
    }
   ],
   "source": [
    "from pyspark.sql import SparkSession\n",
    "\n",
    "# Create SparkSession\n",
    "spark = SparkSession.builder \\\n",
    "        .appName(\"SimilaritySearch\") \\\n",
    "        .master(\"spark://172.29.15.15:7077\") \\\n",
    "        .config(\"spark.executor.instances\", \"2\") \\\n",
    "        .config(\"spark.executor.cores\", \"10\") \\\n",
    "        .config(\"spark.executor.memory\", \"16g\") \\\n",
    "        .config(\"spark.driver.memory\", \"8g\") \\\n",
    "        .config(\"spark.driver.maxResultSize\", \"12g\") \\\n",
    "        .config(\"spark.shuffle.io.connectionTimeout\", \"600s\") \\\n",
    "        .getOrCreate()\n",
    "\n",
    "spark.sparkContext.addPyFile(\"./utils/utilities.py\")"
   ]
  },
  {
   "cell_type": "code",
   "execution_count": 2,
   "metadata": {},
   "outputs": [],
   "source": [
    "from utilities import Shingling, HashFamily\n",
    "from pyspark.sql.functions import col\n",
    "from pyspark.sql.types import StructType, StructField, StringType, IntegerType\n",
    "import math\n",
    "import time\n",
    "from itertools import combinations\n",
    "\n",
    "\n",
    "### DEFINE SUPPORT FUNCTION\n",
    "def shingling_map(row):\n",
    "    out = []\n",
    "    sh_instance = Shingling(5)\n",
    "    shingles = sh_instance.get_shingles(row[\"title\"] + \" \" + row[\"text\"], words=True)\n",
    "    signature_size = 100\n",
    "    for i in range(0, signature_size):  # signature size\n",
    "        out.append((row[\"_id\"], shingles, i))\n",
    "\n",
    "    # return an iterator to use flatMap => produce more than one key-value pair as output (namely one per hash function)\n",
    "    return iter(out)\n",
    "\n",
    "def minhash_map(row):\n",
    "    doc_id = row[0]\n",
    "    shingles = row[1]\n",
    "    hash_f = HashFamily(row[2])\n",
    "    min_h = math.inf\n",
    "    for el in shingles:\n",
    "        hash_value = hash_f.get_hash_value(el)\n",
    "        if hash_value < min_h:\n",
    "            min_h = hash_value\n",
    "\n",
    "    return (doc_id, min_h)\n",
    "\n",
    "def map_buckets(row):\n",
    "    # Band number = 10 and row number = 10 because we have 100 signatures\n",
    "    band_number = 10\n",
    "    row_number = 10\n",
    "    doc_id = row[0]\n",
    "    doc_sign = row[1]\n",
    "    hash_funct = HashFamily(1)\n",
    "    out = []\n",
    "\n",
    "    for i in range(0, band_number):\n",
    "        band_id = i\n",
    "        idx = i * row_number\n",
    "        set_col = \" \".join(str(x) for x in doc_sign[idx : idx + row_number])\n",
    "        bucket = hash_funct.get_hash_value(set_col)\n",
    "        out.append(((band_id, bucket), doc_id))\n",
    "\n",
    "    return iter(out)\n",
    "\n",
    "def calculate_similarity(row):\n",
    "    out = []\n",
    "    list_doc_id = row[1]\n",
    "    for pair in combinations(list_doc_id, 2):\n",
    "        doc_id_1 = pair[0]\n",
    "        doc_id_2 = pair[1]\n",
    "        sig_1 = set(sig_matrix_dict[doc_id_1])\n",
    "        sig_2 = set(sig_matrix_dict[doc_id_2])\n",
    "        js = len(sig_1.intersection(sig_2)) / len(sig_1.union(sig_2))\n",
    "        out.append((pair, js))\n",
    "    return iter(out)"
   ]
  },
  {
   "cell_type": "code",
   "execution_count": 1,
   "metadata": {},
   "outputs": [
    {
     "name": "stdout",
     "output_type": "stream",
     "text": [
      "SIMILARS DOCUMENT PAIR NUMBERS: 66322\n",
      "Time execution: 1823 (s)\n"
     ]
    }
   ],
   "source": [
    "THRESHHOLD = 0.8\n",
    "\n",
    "start_time = time.time()\n",
    "# Read datafile\n",
    "file_path = \"hdfs://172.29.15.15:9000/khang/dataset/corpus.jsonl\"\n",
    "df = spark.read.json(file_path)\n",
    "\n",
    "# Just get first 1,000,000 rows to process because limited in hardware\n",
    "df = df.limit(1000000)\n",
    "\n",
    "## Step 1: Generate shingles\n",
    "shingles = df.rdd.flatMap(shingling_map)\n",
    "\n",
    "## Step 2: Apply min-hashing\n",
    "# Map Task\n",
    "minhash_map = shingles.map(minhash_map)\n",
    "# Reduce Task\n",
    "sig_matrix = minhash_map.groupByKey().map(lambda x : (x[0], list(x[1])))\n",
    "\n",
    "## Step 3: Split signature to bucket\n",
    "# Map Task\n",
    "candidate_map = sig_matrix.flatMap(map_buckets)\n",
    "# Reduce Task\n",
    "candidate_reduce = candidate_map.groupByKey().map(lambda x: (x[0], list(x[1])))\n",
    "\n",
    "## Step 4: Collect sig_matrix and convert to dict\n",
    "sig_matrix_df = sig_matrix.collect()\n",
    "sig_matrix_dict = {item[0]: item[1] for item in sig_matrix_df}\n",
    "\n",
    "## Step 5: Calculate similarity\n",
    "similar_pairs = candidate_reduce.flatMap(calculate_similarity)\n",
    "\n",
    "## Step 6: Filtered candidate pair\n",
    "filtered_pairs = similar_pairs.filter(lambda x: x[1] >= THRESHHOLD)\n",
    "\n",
    "end_time = time.time()\n",
    "print(\"SIMILARS DOCUMENT PAIR NUMBERS: \", filtered_pairs.count())\n",
    "print(f\"Time execution: {end_time-start_time} (s)\")"
   ]
  },
  {
   "cell_type": "code",
   "execution_count": 4,
   "metadata": {},
   "outputs": [
    {
     "name": "stderr",
     "output_type": "stream",
     "text": [
      "[Stage 15:>                                                         (0 + 1) / 1]\r"
     ]
    },
    {
     "name": "stdout",
     "output_type": "stream",
     "text": [
      "+------------------+------------------+\n",
      "|              pair|jaccard similarity|\n",
      "+------------------+------------------+\n",
      "|{2568924, 2569147}|0.8018018018018018|\n",
      "|{2568965, 2569147}|0.8018018018018018|\n",
      "|{2569147, 2569239}|0.8348623853211009|\n",
      "|{6557376, 6557914}|0.8181818181818182|\n",
      "|  {493773, 491812}|0.8018018018018018|\n",
      "|  {493773, 526980}|0.8018018018018018|\n",
      "|  {491817, 526982}|0.8018018018018018|\n",
      "|  {491817, 491896}|0.8181818181818182|\n",
      "|  {491817, 526980}|0.8181818181818182|\n",
      "|  {493230, 526980}|0.8181818181818182|\n",
      "|  {476990, 491896}|0.8018018018018018|\n",
      "|  {526974, 526980}|0.8018018018018018|\n",
      "|  {492167, 526980}|0.8018018018018018|\n",
      "|  {493194, 526980}|0.8181818181818182|\n",
      "|  {526982, 491812}|0.8018018018018018|\n",
      "|  {526982, 492468}|0.8181818181818182|\n",
      "|  {526982, 491896}|0.8181818181818182|\n",
      "|  {526982, 526971}|0.8181818181818182|\n",
      "|  {526982, 526980}|0.8518518518518519|\n",
      "|  {491812, 491896}|0.8018018018018018|\n",
      "+------------------+------------------+\n",
      "only showing top 20 rows\n",
      "\n"
     ]
    },
    {
     "name": "stderr",
     "output_type": "stream",
     "text": [
      "                                                                                \r"
     ]
    }
   ],
   "source": [
    "filtered_pairs_df = filtered_pairs.toDF([\"pair\", \"jaccard similarity\"])\n",
    "filtered_pairs_df.show()"
   ]
  },
  {
   "cell_type": "code",
   "execution_count": 18,
   "metadata": {},
   "outputs": [
    {
     "name": "stderr",
     "output_type": "stream",
     "text": [
      "                                                                                \r"
     ]
    },
    {
     "name": "stderr",
     "output_type": "stream",
     "text": [
      "[Stage 93:>                                                         (0 + 1) / 1]\r"
     ]
    }
   ],
   "source": [
    "sample = filtered_pairs_df.sample(fraction=0.1, seed=69).limit(10).collect()"
   ]
  },
  {
   "cell_type": "code",
   "execution_count": 19,
   "metadata": {},
   "outputs": [
    {
     "name": "stdout",
     "output_type": "stream",
     "text": [
      "SAMPLE 0:\n"
     ]
    },
    {
     "name": "stderr",
     "output_type": "stream",
     "text": [
      "                                                                                \r"
     ]
    },
    {
     "name": "stdout",
     "output_type": "stream",
     "text": [
      "+--------+----------------------------------------------+------------------------------------------------------------------------------------------------------------------------------------------------------+--------------+\n",
      "|     _id|                                      metadata|                                                                                                                                                  text|         title|\n",
      "+--------+----------------------------------------------+------------------------------------------------------------------------------------------------------------------------------------------------------+--------------+\n",
      "|11881967|{https://en.wikipedia.org/wiki?curid=11881967}|Niederbrombach is an \"Ortsgemeinde\" – a municipality belonging to a \"Verbandsgemeinde\", a kind of collective municipality – in the Birkenfeld distr...|Niederbrombach|\n",
      "+--------+----------------------------------------------+------------------------------------------------------------------------------------------------------------------------------------------------------+--------------+\n",
      "\n"
     ]
    },
    {
     "name": "stderr",
     "output_type": "stream",
     "text": [
      "                                                                                \r"
     ]
    },
    {
     "name": "stdout",
     "output_type": "stream",
     "text": [
      "+--------+----------------------------------------------+------------------------------------------------------------------------------------------------------------------------------------------------------+----------------+\n",
      "|     _id|                                      metadata|                                                                                                                                                  text|           title|\n",
      "+--------+----------------------------------------------+------------------------------------------------------------------------------------------------------------------------------------------------------+----------------+\n",
      "|11881401|{https://en.wikipedia.org/wiki?curid=11881401}|Dambach is an \"Ortsgemeinde\" – a municipality belonging to a \"Verbandsgemeinde\", a kind of collective municipality – in the Birkenfeld district in ...|Dambach, Germany|\n",
      "+--------+----------------------------------------------+------------------------------------------------------------------------------------------------------------------------------------------------------+----------------+\n",
      "\n",
      "\n",
      "\n",
      "SAMPLE 1:\n"
     ]
    },
    {
     "name": "stderr",
     "output_type": "stream",
     "text": [
      "                                                                                \r"
     ]
    },
    {
     "name": "stdout",
     "output_type": "stream",
     "text": [
      "+--------+----------------------------------------------+------------------------------------------------------------------------------------------+-------------+\n",
      "|     _id|                                      metadata|                                                                                      text|        title|\n",
      "+--------+----------------------------------------------+------------------------------------------------------------------------------------------+-------------+\n",
      "|11825661|{https://en.wikipedia.org/wiki?curid=11825661}|For background information about this competition, please refer to the Amco Cup main page.|1975 Amco Cup|\n",
      "+--------+----------------------------------------------+------------------------------------------------------------------------------------------+-------------+\n",
      "\n"
     ]
    },
    {
     "name": "stderr",
     "output_type": "stream",
     "text": [
      "                                                                                \r"
     ]
    },
    {
     "name": "stdout",
     "output_type": "stream",
     "text": [
      "+--------+----------------------------------------------+------------------------------------------------------------------------------------------+-------------+\n",
      "|     _id|                                      metadata|                                                                                      text|        title|\n",
      "+--------+----------------------------------------------+------------------------------------------------------------------------------------------+-------------+\n",
      "|11845738|{https://en.wikipedia.org/wiki?curid=11845738}|For background information about this competition, please refer to the Amco Cup main page.|1979 Amco Cup|\n",
      "+--------+----------------------------------------------+------------------------------------------------------------------------------------------+-------------+\n",
      "\n",
      "\n",
      "\n",
      "SAMPLE 2:\n",
      "+--------+----------------------------------------------+------------------------------------------------------------------------------------------------------------------------------------------------------+------------+\n",
      "|     _id|                                      metadata|                                                                                                                                                  text|       title|\n",
      "+--------+----------------------------------------------+------------------------------------------------------------------------------------------------------------------------------------------------------+------------+\n",
      "|12327009|{https://en.wikipedia.org/wiki?curid=12327009}|Reidenhausen is an \"Ortsgemeinde\" – a municipality belonging to a \"Verbandsgemeinde\", a kind of collective municipality – in the Cochem-Zell distri...|Reidenhausen|\n",
      "+--------+----------------------------------------------+------------------------------------------------------------------------------------------------------------------------------------------------------+------------+\n",
      "\n"
     ]
    },
    {
     "name": "stderr",
     "output_type": "stream",
     "text": [
      "                                                                                \r"
     ]
    },
    {
     "name": "stdout",
     "output_type": "stream",
     "text": [
      "+--------+----------------------------------------------+------------------------------------------------------------------------------------------------------------------------------------------------------+------+\n",
      "|     _id|                                      metadata|                                                                                                                                                  text| title|\n",
      "+--------+----------------------------------------------+------------------------------------------------------------------------------------------------------------------------------------------------------+------+\n",
      "|12327183|{https://en.wikipedia.org/wiki?curid=12327183}|Tellig is an \"Ortsgemeinde\" – a municipality belonging to a \"Verbandsgemeinde\", a kind of collective municipality – in the Cochem-Zell district in ...|Tellig|\n",
      "+--------+----------------------------------------------+------------------------------------------------------------------------------------------------------------------------------------------------------+------+\n",
      "\n",
      "\n",
      "\n",
      "SAMPLE 3:\n"
     ]
    },
    {
     "name": "stderr",
     "output_type": "stream",
     "text": [
      "                                                                                \r"
     ]
    },
    {
     "name": "stdout",
     "output_type": "stream",
     "text": [
      "+--------+----------------------------------------------+------------------------------------------------------------------------------------------------------------------------------------------------------+-------------------------+\n",
      "|     _id|                                      metadata|                                                                                                                                                  text|                    title|\n",
      "+--------+----------------------------------------------+------------------------------------------------------------------------------------------------------------------------------------------------------+-------------------------+\n",
      "|11859633|{https://en.wikipedia.org/wiki?curid=11859633}|Alf is an \"Ortsgemeinde\" – a municipality belonging to a \"Verbandsgemeinde\", a kind of collective municipality – in the Cochem-Zell district in Rhi...|Alf, Rhineland-Palatinate|\n",
      "+--------+----------------------------------------------+------------------------------------------------------------------------------------------------------------------------------------------------------+-------------------------+\n",
      "\n"
     ]
    },
    {
     "name": "stderr",
     "output_type": "stream",
     "text": [
      "                                                                                \r"
     ]
    },
    {
     "name": "stdout",
     "output_type": "stream",
     "text": [
      "+--------+----------------------------------------------+------------------------------------------------------------------------------------------------------------------------------------------------------+--------+\n",
      "|     _id|                                      metadata|                                                                                                                                                  text|   title|\n",
      "+--------+----------------------------------------------+------------------------------------------------------------------------------------------------------------------------------------------------------+--------+\n",
      "|12326397|{https://en.wikipedia.org/wiki?curid=12326397}|Haserich is an \"Ortsgemeinde\" – a municipality belonging to a \"Verbandsgemeinde\", a kind of collective municipality – in the Cochem-Zell district i...|Haserich|\n",
      "+--------+----------------------------------------------+------------------------------------------------------------------------------------------------------------------------------------------------------+--------+\n",
      "\n",
      "\n",
      "\n",
      "SAMPLE 4:\n"
     ]
    },
    {
     "name": "stderr",
     "output_type": "stream",
     "text": [
      "                                                                                \r"
     ]
    },
    {
     "name": "stdout",
     "output_type": "stream",
     "text": [
      "+--------+----------------------------------------------+------------------------------------------------------------------------------------------------------------------------------------------------------+---------+\n",
      "|     _id|                                      metadata|                                                                                                                                                  text|    title|\n",
      "+--------+----------------------------------------------+------------------------------------------------------------------------------------------------------------------------------------------------------+---------+\n",
      "|12326415|{https://en.wikipedia.org/wiki?curid=12326415}|Hesweiler is an \"Ortsgemeinde\" – a municipality belonging to a \"Verbandsgemeinde\", a kind of collective municipality – in the Cochem-Zell district ...|Hesweiler|\n",
      "+--------+----------------------------------------------+------------------------------------------------------------------------------------------------------------------------------------------------------+---------+\n",
      "\n"
     ]
    },
    {
     "name": "stderr",
     "output_type": "stream",
     "text": [
      "                                                                                \r"
     ]
    },
    {
     "name": "stdout",
     "output_type": "stream",
     "text": [
      "+--------+----------------------------------------------+------------------------------------------------------------------------------------------------------------------------------------------------------+---------+\n",
      "|     _id|                                      metadata|                                                                                                                                                  text|    title|\n",
      "+--------+----------------------------------------------+------------------------------------------------------------------------------------------------------------------------------------------------------+---------+\n",
      "|12327247|{https://en.wikipedia.org/wiki?curid=12327247}|Walhausen is an \"Ortsgemeinde\" – a municipality belonging to a \"Verbandsgemeinde\", a kind of collective municipality – in the Cochem-Zell district ...|Walhausen|\n",
      "+--------+----------------------------------------------+------------------------------------------------------------------------------------------------------------------------------------------------------+---------+\n",
      "\n",
      "\n",
      "\n",
      "SAMPLE 5:\n"
     ]
    },
    {
     "name": "stderr",
     "output_type": "stream",
     "text": [
      "                                                                                \r"
     ]
    },
    {
     "name": "stdout",
     "output_type": "stream",
     "text": [
      "+--------+----------------------------------------------+------------------------------------------------------------------------------------------------------------------------------------------------------+-----------+\n",
      "|     _id|                                      metadata|                                                                                                                                                  text|      title|\n",
      "+--------+----------------------------------------------+------------------------------------------------------------------------------------------------------------------------------------------------------+-----------+\n",
      "|11882294|{https://en.wikipedia.org/wiki?curid=11882294}|Stipshausen is an \"Ortsgemeinde\" – a municipality belonging to a \"Verbandsgemeinde\", a kind of collective municipality – in the Birkenfeld district...|Stipshausen|\n",
      "+--------+----------------------------------------------+------------------------------------------------------------------------------------------------------------------------------------------------------+-----------+\n",
      "\n"
     ]
    },
    {
     "name": "stderr",
     "output_type": "stream",
     "text": [
      "                                                                                \r"
     ]
    },
    {
     "name": "stdout",
     "output_type": "stream",
     "text": [
      "+--------+----------------------------------------------+------------------------------------------------------------------------------------------------------------------------------------------------------+---------+\n",
      "|     _id|                                      metadata|                                                                                                                                                  text|    title|\n",
      "+--------+----------------------------------------------+------------------------------------------------------------------------------------------------------------------------------------------------------+---------+\n",
      "|11881652|{https://en.wikipedia.org/wiki?curid=11881652}|Gösenroth is an \"Ortsgemeinde\" – a municipality belonging to a \"Verbandsgemeinde\", a kind of collective municipality – in the Birkenfeld district i...|Gösenroth|\n",
      "+--------+----------------------------------------------+------------------------------------------------------------------------------------------------------------------------------------------------------+---------+\n",
      "\n",
      "\n",
      "\n",
      "SAMPLE 6:\n"
     ]
    },
    {
     "name": "stderr",
     "output_type": "stream",
     "text": [
      "                                                                                \r"
     ]
    },
    {
     "name": "stdout",
     "output_type": "stream",
     "text": [
      "+--------+----------------------------------------------+------------------------------------------------------------------------------------------------------------------------------------------------------+------+\n",
      "|     _id|                                      metadata|                                                                                                                                                  text| title|\n",
      "+--------+----------------------------------------------+------------------------------------------------------------------------------------------------------------------------------------------------------+------+\n",
      "|12325504|{https://en.wikipedia.org/wiki?curid=12325504}|Alflen is an \"Ortsgemeinde\" – a municipality belonging to a \"Verbandsgemeinde\", a kind of collective municipality – in the Cochem-Zell district in ...|Alflen|\n",
      "+--------+----------------------------------------------+------------------------------------------------------------------------------------------------------------------------------------------------------+------+\n",
      "\n"
     ]
    },
    {
     "name": "stderr",
     "output_type": "stream",
     "text": [
      "                                                                                \r"
     ]
    },
    {
     "name": "stdout",
     "output_type": "stream",
     "text": [
      "+--------+----------------------------------------------+------------------------------------------------------------------------------------------------------------------------------------------------------+-------+\n",
      "|     _id|                                      metadata|                                                                                                                                                  text|  title|\n",
      "+--------+----------------------------------------------+------------------------------------------------------------------------------------------------------------------------------------------------------+-------+\n",
      "|12326457|{https://en.wikipedia.org/wiki?curid=12326457}|Kliding is an \"Ortsgemeinde\" – a municipality belonging to a \"Verbandsgemeinde\", a kind of collective municipality – in the Cochem-Zell district in...|Kliding|\n",
      "+--------+----------------------------------------------+------------------------------------------------------------------------------------------------------------------------------------------------------+-------+\n",
      "\n",
      "\n",
      "\n",
      "SAMPLE 7:\n"
     ]
    },
    {
     "name": "stderr",
     "output_type": "stream",
     "text": [
      "                                                                                \r"
     ]
    },
    {
     "name": "stdout",
     "output_type": "stream",
     "text": [
      "+-------+---------------------------------------------+------------------------------------------------------------------------------------------------------------------------------------------------------+------+\n",
      "|    _id|                                     metadata|                                                                                                                                                  text| title|\n",
      "+-------+---------------------------------------------+------------------------------------------------------------------------------------------------------------------------------------------------------+------+\n",
      "|6301393|{https://en.wikipedia.org/wiki?curid=6301393}|Buttes was a municipality in the district of Val-de-Travers in the canton of Neuchâtel in Switzerland. On 1 January 2009, the former municipalities...|Buttes|\n",
      "+-------+---------------------------------------------+------------------------------------------------------------------------------------------------------------------------------------------------------+------+\n",
      "\n"
     ]
    },
    {
     "name": "stderr",
     "output_type": "stream",
     "text": [
      "                                                                                \r"
     ]
    },
    {
     "name": "stdout",
     "output_type": "stream",
     "text": [
      "+-------+---------------------------------------------+------------------------------------------------------------------------------------------------------------------------------------------------------+---------+\n",
      "|    _id|                                     metadata|                                                                                                                                                  text|    title|\n",
      "+-------+---------------------------------------------+------------------------------------------------------------------------------------------------------------------------------------------------------+---------+\n",
      "|6301384|{https://en.wikipedia.org/wiki?curid=6301384}|Boveresse was a municipality in the district of Val-de-Travers in the canton of Neuchâtel in Switzerland. On 1 January 2009, the former municipalit...|Boveresse|\n",
      "+-------+---------------------------------------------+------------------------------------------------------------------------------------------------------------------------------------------------------+---------+\n",
      "\n",
      "\n",
      "\n",
      "SAMPLE 8:\n"
     ]
    },
    {
     "name": "stderr",
     "output_type": "stream",
     "text": [
      "                                                                                \r"
     ]
    },
    {
     "name": "stdout",
     "output_type": "stream",
     "text": [
      "+--------+----------------------------------------------+------------------------------------------------------------------------------------------------------------------------------------------------------+----------+\n",
      "|     _id|                                      metadata|                                                                                                                                                  text|     title|\n",
      "+--------+----------------------------------------------+------------------------------------------------------------------------------------------------------------------------------------------------------+----------+\n",
      "|12326811|{https://en.wikipedia.org/wiki?curid=12326811}|Panzweiler is an \"Ortsgemeinde\" – a municipality belonging to a \"Verbandsgemeinde\", a kind of collective municipality – in the Cochem-Zell district...|Panzweiler|\n",
      "+--------+----------------------------------------------+------------------------------------------------------------------------------------------------------------------------------------------------------+----------+\n",
      "\n"
     ]
    },
    {
     "name": "stderr",
     "output_type": "stream",
     "text": [
      "                                                                                \r"
     ]
    },
    {
     "name": "stdout",
     "output_type": "stream",
     "text": [
      "+--------+----------------------------------------------+------------------------------------------------------------------------------------------------------------------------------------------------------+--------+\n",
      "|     _id|                                      metadata|                                                                                                                                                  text|   title|\n",
      "+--------+----------------------------------------------+------------------------------------------------------------------------------------------------------------------------------------------------------+--------+\n",
      "|12326397|{https://en.wikipedia.org/wiki?curid=12326397}|Haserich is an \"Ortsgemeinde\" – a municipality belonging to a \"Verbandsgemeinde\", a kind of collective municipality – in the Cochem-Zell district i...|Haserich|\n",
      "+--------+----------------------------------------------+------------------------------------------------------------------------------------------------------------------------------------------------------+--------+\n",
      "\n",
      "\n",
      "\n",
      "SAMPLE 9:\n"
     ]
    },
    {
     "name": "stderr",
     "output_type": "stream",
     "text": [
      "                                                                                \r"
     ]
    },
    {
     "name": "stdout",
     "output_type": "stream",
     "text": [
      "+--------+----------------------------------------------+------------------------------------------------------------------------------------------------------------------------------------------------------+-------------------------+\n",
      "|     _id|                                      metadata|                                                                                                                                                  text|                    title|\n",
      "+--------+----------------------------------------------+------------------------------------------------------------------------------------------------------------------------------------------------------+-------------------------+\n",
      "|11859633|{https://en.wikipedia.org/wiki?curid=11859633}|Alf is an \"Ortsgemeinde\" – a municipality belonging to a \"Verbandsgemeinde\", a kind of collective municipality – in the Cochem-Zell district in Rhi...|Alf, Rhineland-Palatinate|\n",
      "+--------+----------------------------------------------+------------------------------------------------------------------------------------------------------------------------------------------------------+-------------------------+\n",
      "\n",
      "+--------+----------------------------------------------+------------------------------------------------------------------------------------------------------------------------------------------------------+----------+\n",
      "|     _id|                                      metadata|                                                                                                                                                  text|     title|\n",
      "+--------+----------------------------------------------+------------------------------------------------------------------------------------------------------------------------------------------------------+----------+\n",
      "|12326379|{https://en.wikipedia.org/wiki?curid=12326379}|Grenderich is an \"Ortsgemeinde\" – a municipality belonging to a \"Verbandsgemeinde\", a kind of collective municipality – in the Cochem-Zell district...|Grenderich|\n",
      "+--------+----------------------------------------------+------------------------------------------------------------------------------------------------------------------------------------------------------+----------+\n",
      "\n",
      "\n",
      "\n"
     ]
    },
    {
     "name": "stderr",
     "output_type": "stream",
     "text": [
      "                                                                                \r"
     ]
    },
    {
     "name": "stderr",
     "output_type": "stream",
     "text": [
      "Exception in thread \"serve-DataFrame\" java.net.SocketTimeoutException: Accept timed out\n",
      "\tat java.net.PlainSocketImpl.socketAccept(Native Method)\n",
      "\tat java.net.AbstractPlainSocketImpl.accept(AbstractPlainSocketImpl.java:409)\n",
      "\tat java.net.ServerSocket.implAccept(ServerSocket.java:560)\n",
      "\tat java.net.ServerSocket.accept(ServerSocket.java:528)\n",
      "\tat org.apache.spark.security.SocketAuthServer$$anon$1.run(SocketAuthServer.scala:65)\n"
     ]
    }
   ],
   "source": [
    "for i, row in enumerate(sample):\n",
    "    doc_1_id = row.pair[0]\n",
    "    doc_2_id = row.pair[1]\n",
    "    print(f\"SAMPLE {i}:\")\n",
    "    df.filter(col(\"_id\") == doc_1_id).show(truncate=150)\n",
    "    df.filter(col(\"_id\") == doc_2_id).show(truncate=150)\n",
    "    print(\"\\n\")"
   ]
  },
  {
   "cell_type": "markdown",
   "metadata": {},
   "source": []
  }
 ],
 "metadata": {
  "kernelspec": {
   "display_name": "Python 3 (ipykernel)",
   "language": "python",
   "name": "python3"
  },
  "language_info": {
   "codemirror_mode": {
    "name": "ipython",
    "version": 3
   },
   "file_extension": ".py",
   "mimetype": "text/x-python",
   "name": "python",
   "nbconvert_exporter": "python",
   "pygments_lexer": "ipython3",
   "version": "3.11.5"
  }
 },
 "nbformat": 4,
 "nbformat_minor": 2
}
